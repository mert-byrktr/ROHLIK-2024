{
 "cells": [
  {
   "cell_type": "code",
   "execution_count": 1,
   "id": "1e305d09",
   "metadata": {
    "_cell_guid": "b1076dfc-b9ad-4769-8c92-a6c4dae69d19",
    "_uuid": "8f2839f25d086af736a60e9eeb907d3b93b6e0e5",
    "execution": {
     "iopub.execute_input": "2024-12-20T16:48:49.637794Z",
     "iopub.status.busy": "2024-12-20T16:48:49.637332Z",
     "iopub.status.idle": "2024-12-20T16:48:53.791832Z",
     "shell.execute_reply": "2024-12-20T16:48:53.790462Z"
    },
    "papermill": {
     "duration": 4.163836,
     "end_time": "2024-12-20T16:48:53.794044",
     "exception": false,
     "start_time": "2024-12-20T16:48:49.630208",
     "status": "completed"
    },
    "tags": []
   },
   "outputs": [],
   "source": [
    "import pandas as pd\n",
    "import lightgbm as lgb\n",
    "from sklearn.model_selection import train_test_split\n",
    "from sklearn.metrics import mean_absolute_error, mean_squared_error\n",
    "from sklearn.preprocessing import LabelEncoder\n",
    "import numpy as np\n",
    "import warnings\n",
    "warnings.filterwarnings(\"ignore\")"
   ]
  },
  {
   "cell_type": "code",
   "execution_count": 2,
   "id": "1f19662f",
   "metadata": {
    "execution": {
     "iopub.execute_input": "2024-12-20T16:48:53.805034Z",
     "iopub.status.busy": "2024-12-20T16:48:53.804108Z",
     "iopub.status.idle": "2024-12-20T16:49:04.014769Z",
     "shell.execute_reply": "2024-12-20T16:49:04.013596Z"
    },
    "papermill": {
     "duration": 10.218598,
     "end_time": "2024-12-20T16:49:04.017472",
     "exception": false,
     "start_time": "2024-12-20T16:48:53.798874",
     "status": "completed"
    },
    "tags": []
   },
   "outputs": [],
   "source": [
    "train = pd.read_csv('/kaggle/input/rohlik-sales-forecasting-challenge-v2/sales_train.csv', parse_dates=['date'])\n",
    "test = pd.read_csv('/kaggle/input/rohlik-sales-forecasting-challenge-v2/sales_test.csv', parse_dates=['date'])\n",
    "ss = pd.read_csv('/kaggle/input/rohlik-sales-forecasting-challenge-v2/solution.csv')\n",
    "inventory = pd.read_csv('/kaggle/input/rohlik-sales-forecasting-challenge-v2/inventory.csv')\n",
    "weights = pd.read_csv('/kaggle/input/rohlik-sales-forecasting-challenge-v2/test_weights.csv')\n",
    "calendar = pd.read_csv('/kaggle/input/rohlik-sales-forecasting-challenge-v2/calendar.csv', parse_dates=['date'])"
   ]
  },
  {
   "cell_type": "code",
   "execution_count": 3,
   "id": "3bf7d169",
   "metadata": {
    "execution": {
     "iopub.execute_input": "2024-12-20T16:49:04.028339Z",
     "iopub.status.busy": "2024-12-20T16:49:04.027963Z",
     "iopub.status.idle": "2024-12-20T16:49:04.162731Z",
     "shell.execute_reply": "2024-12-20T16:49:04.161629Z"
    },
    "papermill": {
     "duration": 0.142192,
     "end_time": "2024-12-20T16:49:04.164843",
     "exception": false,
     "start_time": "2024-12-20T16:49:04.022651",
     "status": "completed"
    },
    "tags": []
   },
   "outputs": [],
   "source": [
    "from datetime import datetime\n",
    "czech_holiday = [ \n",
    "    (['03/31/2024', '04/09/2023', '04/17/2022', '04/04/2021', '04/12/2020'], 'Easter Day'),#loss\n",
    "    (['05/12/2024', '05/10/2020', '05/09/2021', '05/08/2022', '05/14/2023'], \"Mother Day\"), #loss\n",
    "]\n",
    "brno_holiday = [\n",
    "    (['03/31/2024', '04/09/2023', '04/17/2022', '04/04/2021', '04/12/2020'], 'Easter Day'),#loss\n",
    "    (['05/12/2024', '05/10/2020', '05/09/2021', '05/08/2022', '05/14/2023'], \"Mother Day\"), #loss\n",
    "]\n",
    "\n",
    "budapest_holidays = []\n",
    "munich_holidays = [\n",
    "    (['03/30/2024', '04/08/2023', '04/16/2022', '04/03/2021'], 'Holy Saturday'),#loss\n",
    "    (['05/12/2024', '05/14/2023', '05/08/2022', '05/09/2021'], 'Mother Day'),#loss\n",
    "]\n",
    "\n",
    "frank_holidays = [\n",
    "    (['03/30/2024', '04/08/2023', '04/16/2022', '04/03/2021'], 'Holy Saturday'),#loss\n",
    "    (['05/12/2024', '05/14/2023', '05/08/2022', '05/09/2021'], 'Mother Day'),#loss\n",
    "]\n",
    "\n",
    "def fill_loss_holidays(df_fill, warehouses, holidays):\n",
    "    df = df_fill.copy()\n",
    "    for item in holidays:\n",
    "        dates, holiday_name = item\n",
    "        generated_dates = [datetime.strptime(date, '%m/%d/%Y').strftime('%Y-%m-%d') for date in dates]\n",
    "        for generated_date in generated_dates:\n",
    "            df.loc[(df['warehouse'].isin(warehouses)) & (df['date'] == generated_date), 'holiday'] = 1\n",
    "            df.loc[(df['warehouse'].isin(warehouses)) & (df['date'] == generated_date), 'holiday_name'] = holiday_name\n",
    "    return df\n",
    "\n",
    "calendar = fill_loss_holidays(df_fill=calendar, warehouses=['Prague_1', 'Prague_2', 'Prague_3'], holidays=czech_holiday)\n",
    "calendar = fill_loss_holidays(df_fill=calendar, warehouses=['Brno_1'], holidays=brno_holiday)\n",
    "calendar = fill_loss_holidays(df_fill=calendar, warehouses=['Munich_1'], holidays=munich_holidays)\n",
    "calendar = fill_loss_holidays(df_fill=calendar, warehouses=['Frankfurt_1'], holidays=frank_holidays)\n",
    "calendar = fill_loss_holidays(df_fill=calendar, warehouses=['Budapest_1'], holidays=budapest_holidays)"
   ]
  },
  {
   "cell_type": "code",
   "execution_count": 4,
   "id": "ab45ae29",
   "metadata": {
    "execution": {
     "iopub.execute_input": "2024-12-20T16:49:04.174878Z",
     "iopub.status.busy": "2024-12-20T16:49:04.174533Z",
     "iopub.status.idle": "2024-12-20T16:49:04.285919Z",
     "shell.execute_reply": "2024-12-20T16:49:04.284782Z"
    },
    "papermill": {
     "duration": 0.118913,
     "end_time": "2024-12-20T16:49:04.288201",
     "exception": false,
     "start_time": "2024-12-20T16:49:04.169288",
     "status": "completed"
    },
    "tags": []
   },
   "outputs": [],
   "source": [
    "Frankfurt_1 = calendar.query('date >= \"2020-08-01 00:00:00\" and warehouse ==\"Frankfurt_1\"')\n",
    "Prague_2 = calendar.query('date >= \"2020-08-01 00:00:00\" and warehouse ==\"Prague_2\"')\n",
    "Brno_1 = calendar.query('date >= \"2020-08-01 00:00:00\" and warehouse ==\"Brno_1\"')\n",
    "Munich_1 = calendar.query('date >= \"2020-08-01 00:00:00\" and warehouse ==\"Munich_1\"')\n",
    "Prague_3 = calendar.query('date >= \"2020-08-01 00:00:00\" and warehouse ==\"Prague_3\"')\n",
    "Prague_1 = calendar.query('date >= \"2020-08-01 00:00:00\" and warehouse ==\"Prague_1\"')\n",
    "Budapest_1 = calendar.query('date >= \"2020-08-01 00:00:00\" and warehouse ==\"Budapest_1\"')\n",
    "\n",
    "def process_calendar(df):\n",
    "    df = df.sort_values('date').reset_index(drop=True)\n",
    "    df['next_holiday_date'] = df.loc[df['holiday'] == 1, 'date'].shift(-1)\n",
    "    df['next_holiday_date'] = df['next_holiday_date'].bfill()\n",
    "    df['days_to_holiday'] = (df['next_holiday_date'] - df['date']).dt.days\n",
    "    df.drop(columns=['next_holiday_date'], inplace=True)\n",
    "    df['next_shops_closed_date'] = df.loc[df['shops_closed'] == 1, 'date'].shift(-1)\n",
    "    df['next_shops_closed_date'] = df['next_shops_closed_date'].bfill()\n",
    "    df['days_to_shops_closed'] = (df['next_shops_closed_date'] - df['date']).dt.days\n",
    "    df.drop(columns=['next_shops_closed_date'], inplace=True)\n",
    "    df['day_after_closing'] = (\n",
    "        (df['shops_closed'] == 0) & (df['shops_closed'].shift(1) == 1)\n",
    "    ).astype(int)\n",
    "    \n",
    "    df['long_weekend'] = (\n",
    "        (df['shops_closed'] == 1) & (df['shops_closed'].shift(1) == 1)\n",
    "    ).astype(int)\n",
    "    \n",
    "    df['weekday'] = df['date'].dt.weekday \n",
    "    return df\n",
    "dfs = ['Frankfurt_1', 'Prague_2', 'Brno_1', 'Munich_1', 'Prague_3', 'Prague_1', 'Budapest_1']\n",
    "processed_dfs = [process_calendar(globals()[df]) for df in dfs]\n",
    "calendar_extended = pd.concat(processed_dfs).sort_values('date').reset_index(drop=True)"
   ]
  },
  {
   "cell_type": "code",
   "execution_count": 5,
   "id": "6f4f783b",
   "metadata": {
    "execution": {
     "iopub.execute_input": "2024-12-20T16:49:04.298355Z",
     "iopub.status.busy": "2024-12-20T16:49:04.297940Z",
     "iopub.status.idle": "2024-12-20T16:49:13.106814Z",
     "shell.execute_reply": "2024-12-20T16:49:13.105420Z"
    },
    "papermill": {
     "duration": 8.816036,
     "end_time": "2024-12-20T16:49:13.108864",
     "exception": false,
     "start_time": "2024-12-20T16:49:04.292828",
     "status": "completed"
    },
    "tags": []
   },
   "outputs": [],
   "source": [
    "train_calendar = train.merge(calendar_extended, on=['date', 'warehouse'], how='left')\n",
    "train_inventory = train_calendar.merge(inventory, on=['unique_id', 'warehouse'], how='left')\n",
    "train_data = train_inventory.merge(weights, on=['unique_id'], how='left')\n",
    "\n",
    "test_calendar = test.merge(calendar_extended, on=['date', 'warehouse'], how='left')\n",
    "test_datas = test_calendar.merge(inventory, on=['unique_id', 'warehouse'], how='left')\n",
    "\n",
    "train_data = train_data.drop(columns=['availability'])\n",
    "\n",
    "train_data.dropna(subset=['sales'], inplace=True)"
   ]
  },
  {
   "cell_type": "code",
   "execution_count": 6,
   "id": "13fe2e58",
   "metadata": {
    "execution": {
     "iopub.execute_input": "2024-12-20T16:49:13.119147Z",
     "iopub.status.busy": "2024-12-20T16:49:13.118756Z",
     "iopub.status.idle": "2024-12-20T16:49:24.116224Z",
     "shell.execute_reply": "2024-12-20T16:49:24.115026Z"
    },
    "papermill": {
     "duration": 11.004869,
     "end_time": "2024-12-20T16:49:24.118351",
     "exception": false,
     "start_time": "2024-12-20T16:49:13.113482",
     "status": "completed"
    },
    "tags": []
   },
   "outputs": [],
   "source": [
    "import pandas as pd\n",
    "import lightgbm as lgb\n",
    "from sklearn.model_selection import train_test_split\n",
    "from sklearn.metrics import mean_absolute_error, mean_squared_error\n",
    "from sklearn.preprocessing import LabelEncoder\n",
    "\n",
    "df=train_data\n",
    "df['date'] = pd.to_datetime(df['date'])\n",
    "df['year'] = df['date'].dt.year\n",
    "df['month'] = df['date'].dt.month\n",
    "df['day'] = df['date'].dt.day\n",
    "df['weekday'] = df['date'].dt.weekday\n",
    "df['dayofweek'] = df['date'].dt.dayofweek\n",
    "df['weekofyear'] = df['date'].dt.isocalendar().week\n",
    "df['dayofyear'] = df['date'].dt.dayofyear\n",
    "df['is_month_start'] = df['date'].dt.is_month_start\n",
    "df['is_month_end'] = df['date'].dt.is_month_end\n",
    "df['quarter'] = df['date'].dt.quarter\n",
    "df[\"total_dic\"]=df['type_0_discount']+df['type_0_discount']+df['type_1_discount']+df['type_2_discount']+df['type_3_discount']+df['type_4_discount']+df['type_5_discount']+df['type_6_discount']\n",
    "df['total_orders_']=df['total_orders']/df['sell_price_main']\n",
    "df['total_orders_dic']=df['total_orders_']/df[\"total_dic\"]\n",
    "df['total_orders_sell_price_main']=df['sell_price_main']/df[\"total_dic\"]\n",
    "for i in range(7):\n",
    "    df[f'total_orders{i}']=df[f'type_{i}_discount']/df[\"total_orders\"]\n",
    "    df[f'total_orders_sell_price_main_{i}']=df[f'type_{i}_discount']/df[\"total_orders_sell_price_main\"]\n",
    "    df[f'sell_price_main{i}']=df[f'type_{i}_discount']/df[\"sell_price_main\"]\n",
    "    df[f'sell_price_main_x_{i}']=df[f'type_{i}_discount']/(df[\"sell_price_main\"]*df[\"total_orders\"])\n",
    "    df[f'total_orders_dic{i}']=df[f'type_{i}_discount']/df[\"total_orders_dic\"]\n",
    "\n",
    "    df[f'_total_orders{i}']=df[f'type_{i}_discount']*df[\"total_orders\"]\n",
    "    df[f'_total_orders_sell_price_main_{i}']=df[f'type_{i}_discount']*df[\"total_orders_sell_price_main\"]\n",
    "    df[f'_sell_price_main{i}']=df[f'type_{i}_discount']*df[\"sell_price_main\"]\n",
    "    df[f'_total_orders_dic{i}']=df[f'type_{i}_discount']*df[\"total_orders_dic\"]\n",
    "\n",
    "\n",
    "df.fillna(0, inplace=True)\n",
    "\n",
    "\n",
    "categorical_columns=['unique_id']+list(df.select_dtypes(\"object\").columns)\n",
    "\n",
    "for col in categorical_columns:\n",
    "    df[col] = df[col].astype('category')\n",
    "\n",
    "\n",
    "\n",
    "\n",
    "df_test=test_datas\n",
    "df_test['date'] = pd.to_datetime(df_test['date'])\n",
    "\n",
    "df_test['date'] = pd.to_datetime(df_test['date'])\n",
    "df_test['year'] = df_test['date'].dt.year\n",
    "df_test['month'] = df_test['date'].dt.month\n",
    "df_test['day'] = df_test['date'].dt.day\n",
    "df_test['weekday'] = df_test['date'].dt.weekday\n",
    "df_test['dayofweek'] = df_test['date'].dt.dayofweek\n",
    "df_test['weekofyear'] = df_test['date'].dt.isocalendar().week\n",
    "df_test['dayofyear'] = df_test['date'].dt.dayofyear\n",
    "df_test['is_month_start'] = df_test['date'].dt.is_month_start\n",
    "df_test['is_month_end'] = df_test['date'].dt.is_month_end\n",
    "df_test['quarter'] = df_test['date'].dt.quarter\n",
    "\n",
    "df_test[\"total_dic\"]=df_test['type_0_discount']+df_test['type_0_discount']+df_test['type_1_discount']+df_test['type_2_discount']+df_test['type_3_discount']+df_test['type_4_discount']+df_test['type_5_discount']+df_test['type_6_discount']\n",
    "df_test['total_orders_']=df_test['total_orders']/df_test['sell_price_main']\n",
    "df_test['total_orders_dic']=df_test['total_orders_']/df_test[\"total_dic\"]\n",
    "df_test['total_orders_sell_price_main']=df_test['sell_price_main']/df_test[\"total_dic\"]\n",
    "for i in range(7):\n",
    "    df_test[f'total_orders{i}']=df_test[f'type_{i}_discount']/df_test[\"total_orders\"]\n",
    "    df_test[f'total_orders_sell_price_main_{i}']=df_test[f'type_{i}_discount']/df_test[\"total_orders_sell_price_main\"]\n",
    "    df_test[f'sell_price_main{i}']=df_test[f'type_{i}_discount']/df_test[\"sell_price_main\"]\n",
    "    df_test[f'sell_price_main_x_{i}']=df_test[f'type_{i}_discount']/(df_test[\"sell_price_main\"]*df_test[\"total_orders_sell_price_main\"])\n",
    "    df_test[f'total_orders_dic{i}']=df_test[f'type_{i}_discount']/df_test[\"total_orders_dic\"]\n",
    "    df_test[f'_total_orders{i}']=df_test[f'type_{i}_discount']*df_test[\"total_orders\"]\n",
    "    df_test[f'_total_orders_sell_price_main_{i}']=df_test[f'type_{i}_discount']*df_test[\"total_orders_sell_price_main\"]\n",
    "    df_test[f'_sell_price_main{i}']=df_test[f'type_{i}_discount']*df_test[\"sell_price_main\"]\n",
    "    df_test[f'_total_orders_dic{i}']=df_test[f'type_{i}_discount']*df_test[\"total_orders_dic\"]\n",
    "df_test.fillna(0, inplace=True)"
   ]
  },
  {
   "cell_type": "code",
   "execution_count": 7,
   "id": "5c5c9a8c",
   "metadata": {
    "execution": {
     "iopub.execute_input": "2024-12-20T16:49:24.128560Z",
     "iopub.status.busy": "2024-12-20T16:49:24.128114Z",
     "iopub.status.idle": "2024-12-20T16:49:24.163648Z",
     "shell.execute_reply": "2024-12-20T16:49:24.162485Z"
    },
    "papermill": {
     "duration": 0.042757,
     "end_time": "2024-12-20T16:49:24.165636",
     "exception": false,
     "start_time": "2024-12-20T16:49:24.122879",
     "status": "completed"
    },
    "tags": []
   },
   "outputs": [],
   "source": [
    "for col in categorical_columns:\n",
    "    df_test[col] = df_test[col].astype('category')"
   ]
  },
  {
   "cell_type": "code",
   "execution_count": 8,
   "id": "8c259da2",
   "metadata": {
    "execution": {
     "iopub.execute_input": "2024-12-20T16:49:24.175893Z",
     "iopub.status.busy": "2024-12-20T16:49:24.175425Z",
     "iopub.status.idle": "2024-12-20T16:49:24.180346Z",
     "shell.execute_reply": "2024-12-20T16:49:24.179181Z"
    },
    "papermill": {
     "duration": 0.012078,
     "end_time": "2024-12-20T16:49:24.182061",
     "exception": false,
     "start_time": "2024-12-20T16:49:24.169983",
     "status": "completed"
    },
    "tags": []
   },
   "outputs": [],
   "source": [
    "train_start_date = '2020-08-01'\n",
    "train_end_date = '2024-03-18'\n",
    "test_start_date = '2024-03-18'\n",
    "test_end_date = '2024-06-01'"
   ]
  },
  {
   "cell_type": "code",
   "execution_count": 9,
   "id": "43b468b4",
   "metadata": {
    "execution": {
     "iopub.execute_input": "2024-12-20T16:49:24.192261Z",
     "iopub.status.busy": "2024-12-20T16:49:24.191836Z",
     "iopub.status.idle": "2024-12-20T16:49:26.654808Z",
     "shell.execute_reply": "2024-12-20T16:49:26.653549Z"
    },
    "papermill": {
     "duration": 2.470441,
     "end_time": "2024-12-20T16:49:26.656922",
     "exception": false,
     "start_time": "2024-12-20T16:49:24.186481",
     "status": "completed"
    },
    "tags": []
   },
   "outputs": [],
   "source": [
    "X = df.drop(['sales', 'date','weight'], axis=1)\n",
    "y = df['sales']**(1/8)"
   ]
  },
  {
   "cell_type": "code",
   "execution_count": 10,
   "id": "f1721edd",
   "metadata": {
    "execution": {
     "iopub.execute_input": "2024-12-20T16:49:26.666961Z",
     "iopub.status.busy": "2024-12-20T16:49:26.666562Z",
     "iopub.status.idle": "2024-12-20T16:49:32.848481Z",
     "shell.execute_reply": "2024-12-20T16:49:32.847128Z"
    },
    "papermill": {
     "duration": 6.18936,
     "end_time": "2024-12-20T16:49:32.850719",
     "exception": false,
     "start_time": "2024-12-20T16:49:26.661359",
     "status": "completed"
    },
    "tags": []
   },
   "outputs": [],
   "source": [
    "train_data = df[(df['date'] < train_end_date)]\n",
    "test_data = df[(df['date'] >= test_start_date)]\n",
    "\n",
    "X_train = train_data.drop(['sales', 'date', 'weight'], axis=1)\n",
    "y_train = train_data['sales']**(1/8)\n",
    "train_weights = train_data['weight']\n",
    "\n",
    "X_test = test_data.drop(['sales', 'date', 'weight'], axis=1)\n",
    "y_test = test_data['sales']**(1/8)\n",
    "\n",
    "test_weights = test_data['weight']"
   ]
  },
  {
   "cell_type": "code",
   "execution_count": 11,
   "id": "1ebfa759",
   "metadata": {
    "execution": {
     "iopub.execute_input": "2024-12-20T16:49:32.861678Z",
     "iopub.status.busy": "2024-12-20T16:49:32.861230Z",
     "iopub.status.idle": "2024-12-20T16:49:39.322649Z",
     "shell.execute_reply": "2024-12-20T16:49:39.321356Z"
    },
    "papermill": {
     "duration": 6.46876,
     "end_time": "2024-12-20T16:49:39.324661",
     "exception": false,
     "start_time": "2024-12-20T16:49:32.855901",
     "status": "completed"
    },
    "tags": []
   },
   "outputs": [],
   "source": [
    "cols=X.select_dtypes([\"int\",\"float\"]).columns"
   ]
  },
  {
   "cell_type": "code",
   "execution_count": 12,
   "id": "87d216b4",
   "metadata": {
    "execution": {
     "iopub.execute_input": "2024-12-20T16:49:39.334874Z",
     "iopub.status.busy": "2024-12-20T16:49:39.334482Z",
     "iopub.status.idle": "2024-12-20T16:49:43.020061Z",
     "shell.execute_reply": "2024-12-20T16:49:43.018818Z"
    },
    "papermill": {
     "duration": 3.693139,
     "end_time": "2024-12-20T16:49:43.022245",
     "exception": false,
     "start_time": "2024-12-20T16:49:39.329106",
     "status": "completed"
    },
    "tags": []
   },
   "outputs": [],
   "source": [
    "from sklearn.preprocessing import RobustScaler\n",
    "import numpy as np\n",
    "\n",
    "sc = RobustScaler()\n",
    "\n",
    "for col in cols:\n",
    "    X_train[col].replace([np.inf, -np.inf], X_train[col].min(), inplace=True)\n",
    "    X_test[col].replace([np.inf, -np.inf], X_test[col].min(), inplace=True)\n",
    "\n",
    "    X_train[col].fillna(X_train[col].mean(), inplace=True)\n",
    "    X_test[col].fillna(X_test[col].mean(), inplace=True)\n",
    "\n",
    "\n",
    "X_train[col] = sc.fit_transform(X_train[[col]])  \n",
    "X_test[col] = sc.transform(X_test[[col]])  "
   ]
  },
  {
   "cell_type": "code",
   "execution_count": 13,
   "id": "e3e648bb",
   "metadata": {
    "execution": {
     "iopub.execute_input": "2024-12-20T16:49:43.032187Z",
     "iopub.status.busy": "2024-12-20T16:49:43.031796Z",
     "iopub.status.idle": "2024-12-20T16:49:43.036590Z",
     "shell.execute_reply": "2024-12-20T16:49:43.035575Z"
    },
    "papermill": {
     "duration": 0.011798,
     "end_time": "2024-12-20T16:49:43.038500",
     "exception": false,
     "start_time": "2024-12-20T16:49:43.026702",
     "status": "completed"
    },
    "tags": []
   },
   "outputs": [],
   "source": [
    "categorical_feature_indices = [X.columns.get_loc(col) for col in categorical_columns if col in X.columns]"
   ]
  },
  {
   "cell_type": "code",
   "execution_count": 14,
   "id": "61397220",
   "metadata": {
    "execution": {
     "iopub.execute_input": "2024-12-20T16:49:43.048236Z",
     "iopub.status.busy": "2024-12-20T16:49:43.047896Z",
     "iopub.status.idle": "2024-12-20T17:32:53.739494Z",
     "shell.execute_reply": "2024-12-20T17:32:53.737559Z"
    },
    "papermill": {
     "duration": 2590.706088,
     "end_time": "2024-12-20T17:32:53.749019",
     "exception": false,
     "start_time": "2024-12-20T16:49:43.042931",
     "status": "completed"
    },
    "tags": []
   },
   "outputs": [
    {
     "name": "stdout",
     "output_type": "stream",
     "text": [
      "[200]\tvalid_0's l1: 0.0885557\n",
      "[400]\tvalid_0's l1: 0.0820072\n",
      "[600]\tvalid_0's l1: 0.0792068\n",
      "[800]\tvalid_0's l1: 0.0779112\n",
      "[1000]\tvalid_0's l1: 0.0768244\n",
      "[1200]\tvalid_0's l1: 0.0756814\n",
      "[1400]\tvalid_0's l1: 0.0749381\n",
      "[1600]\tvalid_0's l1: 0.0744682\n",
      "[1800]\tvalid_0's l1: 0.0741401\n",
      "[2000]\tvalid_0's l1: 0.0738614\n",
      "[2200]\tvalid_0's l1: 0.073556\n",
      "[2400]\tvalid_0's l1: 0.0733461\n",
      "[2600]\tvalid_0's l1: 0.0731742\n",
      "[2800]\tvalid_0's l1: 0.0729825\n",
      "[3000]\tvalid_0's l1: 0.072814\n",
      "[3200]\tvalid_0's l1: 0.0727185\n",
      "[3400]\tvalid_0's l1: 0.0723858\n",
      "[3600]\tvalid_0's l1: 0.0722704\n",
      "[3800]\tvalid_0's l1: 0.0721742\n",
      "[4000]\tvalid_0's l1: 0.0720759\n",
      "[4200]\tvalid_0's l1: 0.0719818\n",
      "[4400]\tvalid_0's l1: 0.0719128\n",
      "[4600]\tvalid_0's l1: 0.0718496\n",
      "[4800]\tvalid_0's l1: 0.0717888\n",
      "[5000]\tvalid_0's l1: 0.0716977\n",
      "[5200]\tvalid_0's l1: 0.071635\n",
      "[5400]\tvalid_0's l1: 0.0716019\n",
      "[5600]\tvalid_0's l1: 0.0715519\n",
      "[5800]\tvalid_0's l1: 0.071535\n",
      "[6000]\tvalid_0's l1: 0.0715413\n",
      "[6200]\tvalid_0's l1: 0.0715278\n",
      "[6400]\tvalid_0's l1: 0.0715138\n",
      "[6600]\tvalid_0's l1: 0.0715159\n",
      "[6800]\tvalid_0's l1: 0.0715374\n",
      "[7000]\tvalid_0's l1: 0.0715305\n",
      "[7200]\tvalid_0's l1: 0.0715266\n",
      "[7400]\tvalid_0's l1: 0.0714889\n",
      "[7600]\tvalid_0's l1: 0.0715125\n",
      "[7800]\tvalid_0's l1: 0.0715614\n",
      "[8000]\tvalid_0's l1: 0.0715942\n",
      "[8200]\tvalid_0's l1: 0.0716\n",
      "[8400]\tvalid_0's l1: 0.0716299\n",
      "[8600]\tvalid_0's l1: 0.0716446\n",
      "[8800]\tvalid_0's l1: 0.0716536\n",
      "[9000]\tvalid_0's l1: 0.0716452\n",
      "[9200]\tvalid_0's l1: 0.0716421\n",
      "[9400]\tvalid_0's l1: 0.0716547\n",
      "[9600]\tvalid_0's l1: 0.0716536\n",
      "[9800]\tvalid_0's l1: 0.0716674\n",
      "[10000]\tvalid_0's l1: 0.0716701\n",
      "[10200]\tvalid_0's l1: 0.0716819\n",
      "[10400]\tvalid_0's l1: 0.0716992\n",
      "[10600]\tvalid_0's l1: 0.0717042\n",
      "[10800]\tvalid_0's l1: 0.0717182\n",
      "[11000]\tvalid_0's l1: 0.071704\n",
      "\n",
      "Final Model Performance:\n",
      "Weight Mean Absolute Error: 21.92706732206176\n"
     ]
    }
   ],
   "source": [
    "\n",
    "from lightgbm import log_evaluation, early_stopping\n",
    "callbacks = [log_evaluation(period=200)]\n",
    "\n",
    "params={'learning_rate': 0.021796506746095975,\n",
    " 'num_leaves': 93,\n",
    " 'max_depth': 10,\n",
    " 'min_child_samples': 25,\n",
    " 'subsample': 0.7057135664023435,\n",
    " 'colsample_bytree': 0.8528497905459008,\n",
    " 'reg_alpha': 0.036786449788597686,\n",
    " 'reg_lambda': 0.3151110021900479,\n",
    " 'num_boost_round': 11000,\n",
    " 'objective': 'regression',\n",
    " 'metric': 'mae',\n",
    " 'boosting_type': 'gbdt',\n",
    " 'verbose': -1}\n",
    "\n",
    "\n",
    "final_train_dataset = lgb.Dataset(X_train, label=y_train, \n",
    "                                  categorical_feature=categorical_feature_indices,\n",
    "                                  weight=train_weights)\n",
    "final_model = lgb.train(params, \n",
    "                        final_train_dataset, \n",
    "                        num_boost_round=params['num_boost_round'],\n",
    "                        valid_sets=[lgb.Dataset(X_test, label=y_test, \n",
    "                                                categorical_feature=categorical_feature_indices, \n",
    "                                                weight=test_weights)],\n",
    "                       callbacks=callbacks)\n",
    "\n",
    "final_y_pred = final_model.predict(X_test, num_iteration=final_model.best_iteration)\n",
    "weighted_mae = np.sum(test_weights * np.abs(y_test**(8) - final_y_pred**(8))) / np.sum(test_weights)\n",
    "\n",
    "print(\"\\nFinal Model Performance:\")\n",
    "print(f'Weight Mean Absolute Error: {weighted_mae}')\n"
   ]
  },
  {
   "cell_type": "code",
   "execution_count": 15,
   "id": "9c935ac7",
   "metadata": {
    "execution": {
     "iopub.execute_input": "2024-12-20T17:32:53.765358Z",
     "iopub.status.busy": "2024-12-20T17:32:53.764973Z",
     "iopub.status.idle": "2024-12-20T17:33:14.461426Z",
     "shell.execute_reply": "2024-12-20T17:33:14.460087Z"
    },
    "papermill": {
     "duration": 20.707391,
     "end_time": "2024-12-20T17:33:14.463857",
     "exception": false,
     "start_time": "2024-12-20T17:32:53.756466",
     "status": "completed"
    },
    "tags": []
   },
   "outputs": [],
   "source": [
    "from sklearn.preprocessing import RobustScaler\n",
    "import numpy as np\n",
    "\n",
    "sc = RobustScaler()\n",
    "\n",
    "for col in cols:\n",
    "    X[col].replace([np.inf, -np.inf], X[col].min(), inplace=True)\n",
    "    df_test[col].replace([np.inf, -np.inf], df_test[col].min(), inplace=True)\n",
    "\n",
    "    X[col].fillna(X[col].mean(), inplace=True)\n",
    "    df_test[col].fillna(df_test[col].mean(), inplace=True)\n",
    "\n",
    "\n",
    "X[cols] = sc.fit_transform(X[cols])  \n",
    "df_test[cols] = sc.transform(df_test[cols])"
   ]
  },
  {
   "cell_type": "code",
   "execution_count": 16,
   "id": "e5889163",
   "metadata": {
    "execution": {
     "iopub.execute_input": "2024-12-20T17:33:14.480290Z",
     "iopub.status.busy": "2024-12-20T17:33:14.479920Z",
     "iopub.status.idle": "2024-12-20T18:10:24.255016Z",
     "shell.execute_reply": "2024-12-20T18:10:24.250812Z"
    },
    "papermill": {
     "duration": 2229.794465,
     "end_time": "2024-12-20T18:10:24.266019",
     "exception": false,
     "start_time": "2024-12-20T17:33:14.471554",
     "status": "completed"
    },
    "tags": []
   },
   "outputs": [],
   "source": [
    "\n",
    "from lightgbm import log_evaluation, early_stopping\n",
    "callbacks = [log_evaluation(period=200)]\n",
    "\n",
    "params={'learning_rate': 0.021796506746095975,\n",
    " 'num_leaves': 93,\n",
    " 'max_depth': 10,\n",
    " 'min_child_samples': 25,\n",
    " 'subsample': 0.7057135664023435,\n",
    " 'colsample_bytree': 0.8528497905459008,\n",
    " 'reg_alpha': 0.036786449788597686,\n",
    " 'reg_lambda': 0.3151110021900479,\n",
    " 'num_boost_round': 11000,\n",
    " 'objective': 'regression',\n",
    " 'metric': 'mae',\n",
    " 'boosting_type': 'gbdt',\n",
    " 'verbose': -1}\n",
    "\n",
    "\n",
    "final_train_dataset = lgb.Dataset(X, label=y, \n",
    "                                  categorical_feature=categorical_feature_indices,\n",
    "                                  weight=df['weight'])\n",
    "final_model = lgb.train(params, \n",
    "                        final_train_dataset, \n",
    "                        num_boost_round=params['num_boost_round'],\n",
    "                       callbacks=callbacks)\n",
    "\n"
   ]
  },
  {
   "cell_type": "code",
   "execution_count": 17,
   "id": "c9e3f0b2",
   "metadata": {
    "execution": {
     "iopub.execute_input": "2024-12-20T18:10:24.300543Z",
     "iopub.status.busy": "2024-12-20T18:10:24.299935Z",
     "iopub.status.idle": "2024-12-20T18:12:00.561000Z",
     "shell.execute_reply": "2024-12-20T18:12:00.559840Z"
    },
    "papermill": {
     "duration": 96.276825,
     "end_time": "2024-12-20T18:12:00.564067",
     "exception": false,
     "start_time": "2024-12-20T18:10:24.287242",
     "status": "completed"
    },
    "tags": []
   },
   "outputs": [],
   "source": [
    "final_y_pred = final_model.predict(df_test.drop(['date'], axis=1), num_iteration=final_model.best_iteration)"
   ]
  },
  {
   "cell_type": "code",
   "execution_count": 18,
   "id": "3f9c6d24",
   "metadata": {
    "execution": {
     "iopub.execute_input": "2024-12-20T18:12:00.585177Z",
     "iopub.status.busy": "2024-12-20T18:12:00.584728Z",
     "iopub.status.idle": "2024-12-20T18:12:00.827895Z",
     "shell.execute_reply": "2024-12-20T18:12:00.826571Z"
    },
    "papermill": {
     "duration": 0.254639,
     "end_time": "2024-12-20T18:12:00.830009",
     "exception": false,
     "start_time": "2024-12-20T18:12:00.575370",
     "status": "completed"
    },
    "tags": []
   },
   "outputs": [],
   "source": [
    "sub=df_test.copy()\n",
    "sub['sales_hat']=final_y_pred**(8)\n",
    "sub['id']=sub['unique_id'].astype(str) + \"_\" + sub['date'].astype(str)\n",
    "sub[['id','sales_hat']].to_csv(\"submission.csv\",index=False)"
   ]
  }
 ],
 "metadata": {
  "kaggle": {
   "accelerator": "none",
   "dataSources": [
    {
     "databundleVersionId": 10173359,
     "sourceId": 88742,
     "sourceType": "competition"
    }
   ],
   "dockerImageVersionId": 30822,
   "isGpuEnabled": false,
   "isInternetEnabled": true,
   "language": "python",
   "sourceType": "notebook"
  },
  "kernelspec": {
   "display_name": "Python 3",
   "language": "python",
   "name": "python3"
  },
  "language_info": {
   "codemirror_mode": {
    "name": "ipython",
    "version": 3
   },
   "file_extension": ".py",
   "mimetype": "text/x-python",
   "name": "python",
   "nbconvert_exporter": "python",
   "pygments_lexer": "ipython3",
   "version": "3.10.12"
  },
  "papermill": {
   "default_parameters": {},
   "duration": 4996.447795,
   "end_time": "2024-12-20T18:12:03.777667",
   "environment_variables": {},
   "exception": null,
   "input_path": "__notebook__.ipynb",
   "output_path": "__notebook__.ipynb",
   "parameters": {},
   "start_time": "2024-12-20T16:48:47.329872",
   "version": "2.6.0"
  }
 },
 "nbformat": 4,
 "nbformat_minor": 5
}
